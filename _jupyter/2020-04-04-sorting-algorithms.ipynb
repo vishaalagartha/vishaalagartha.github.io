{
 "cells": [
  {
   "cell_type": "markdown",
   "metadata": {},
   "source": [
    "# Prepping for CS Interviews Part 2: Sorting Algorithms"
   ]
  },
  {
   "cell_type": "markdown",
   "metadata": {},
   "source": [
    "# Sorting Algorithms"
   ]
  },
  {
   "cell_type": "markdown",
   "metadata": {},
   "source": [
    "### Merge Sort - O(nlogn)\n",
    "* Recursively cut array in half and call merge sort on each half\n",
    "* In merge step, insert elements in order"
   ]
  },
  {
   "cell_type": "code",
   "execution_count": 13,
   "metadata": {},
   "outputs": [
    {
     "name": "stdout",
     "output_type": "stream",
     "text": [
      "[1] [3]\n",
      "[3] [1]\n",
      "[4] [1, 3]\n",
      "[1, 3] [1, 3, 4]\n"
     ]
    },
    {
     "data": {
      "text/plain": [
       "[1, 1, 3, 3, 4]"
      ]
     },
     "execution_count": 13,
     "metadata": {},
     "output_type": "execute_result"
    }
   ],
   "source": [
    "def merge(a1, a2):\n",
    "    merged = []\n",
    "    i=0\n",
    "    j=0\n",
    "    while i<len(a1) or j<len(a2):\n",
    "        if i==len(a1):\n",
    "            merged.append(a2[j])\n",
    "            j+=1\n",
    "        elif j==len(a2):\n",
    "            merged.append(a1[i])\n",
    "            i+=1\n",
    "        elif a1[i]<a2[j]:\n",
    "            merged.append(a1[i])\n",
    "            i+=1\n",
    "        else:\n",
    "            merged.append(a2[j])\n",
    "            j+=1\n",
    "    return merged\n",
    "            \n",
    "\n",
    "def merge_sort(arr):\n",
    "    if len(arr)==1: return arr\n",
    "    mid = int(len(arr)/2)\n",
    "    a1 = arr[:mid]\n",
    "    a2 = arr[mid:]\n",
    "    a1_sorted = merge_sort(a1)\n",
    "    a2_sorted = merge_sort(a2)\n",
    "    print(a1_sorted, a2_sorted)\n",
    "    merged = merge(a1_sorted, a2_sorted)\n",
    "    return merged\n",
    "    \n",
    "merge_sort([1, 3, 4, 3, 1])"
   ]
  },
  {
   "cell_type": "markdown",
   "metadata": {},
   "source": [
    "### Quick Sort - O(nlogn)\n",
    "* Choose a partition index (could be first, random, last, etc)\n",
    "* Put all elements smaller than partition to left, all elements greater than partition to right\n",
    "* Recurse on array from start to partition index and array from partition index to end"
   ]
  },
  {
   "cell_type": "code",
   "execution_count": 23,
   "metadata": {},
   "outputs": [
    {
     "data": {
      "text/plain": [
       "[1, 3, 4, 4, 6, 7]"
      ]
     },
     "execution_count": 23,
     "metadata": {},
     "output_type": "execute_result"
    }
   ],
   "source": [
    "def partition(arr,low,high): \n",
    "    i = low-1        \n",
    "    pivot = arr[high]\n",
    "  \n",
    "    for j in range(low, high): \n",
    "        if   arr[j] <= pivot: \n",
    "            i = i+1 \n",
    "            arr[i],arr[j] = arr[j],arr[i] \n",
    "  \n",
    "    arr[i+1],arr[high] = arr[high],arr[i+1] \n",
    "    return i+1\n",
    "\n",
    "def quickSort(arr,low,high): \n",
    "    if low < high: \n",
    "        pi = partition(arr,low,high) \n",
    "        quickSort(arr, low, pi-1) \n",
    "        quickSort(arr, pi+1, high)\n",
    "    return arr\n",
    "arr = [1, 4, 3, 6, 4, 7]\n",
    "quickSort(arr, 0, len(arr)-1)"
   ]
  },
  {
   "cell_type": "markdown",
   "metadata": {},
   "source": [
    "### Heap Sort - O(nlogn)\n",
    "* Create a max heap using heapify\n",
    "\n",
    "* Iteratively remove values from the max heap and add to end of array"
   ]
  },
  {
   "cell_type": "code",
   "execution_count": 43,
   "metadata": {},
   "outputs": [
    {
     "data": {
      "text/plain": [
       "[1, 3, 5, 21, 45, 78]"
      ]
     },
     "execution_count": 43,
     "metadata": {},
     "output_type": "execute_result"
    }
   ],
   "source": [
    "def max_heapify(arr): \n",
    "    for i in range(0, len(arr)):\n",
    "        largest = i\n",
    "        l = 2*i+1\n",
    "        r = 2*i+2\n",
    "        \n",
    "        if l<len(arr) and arr[largest]<arr[l]:\n",
    "            largest = l\n",
    "        if r<len(arr) and arr[largest]<arr[r]:\n",
    "            largest = r\n",
    "        if largest!=i:\n",
    "            arr[i],arr[largest]=arr[largest],arr[i]\n",
    "            max_heapify(arr)\n",
    "    return arr\n",
    "\n",
    "def heap_sort(arr):\n",
    "    heap = max_heapify(arr)\n",
    "    sorted_arr = []\n",
    "    while len(heap)>0:\n",
    "        sorted_arr.append(heap[0])\n",
    "        heap = max_heapify(heap[1:])\n",
    "    return sorted_arr[::-1]\n",
    "\n",
    "arr = [21,1,45,78,3,5]\n",
    "heap_sort(arr)"
   ]
  }
 ],
 "metadata": {
  "kernelspec": {
   "display_name": "Python 3",
   "language": "python",
   "name": "python3"
  },
  "language_info": {
   "codemirror_mode": {
    "name": "ipython",
    "version": 3
   },
   "file_extension": ".py",
   "mimetype": "text/x-python",
   "name": "python",
   "nbconvert_exporter": "python",
   "pygments_lexer": "ipython3",
   "version": "3.6.6"
  }
 },
 "nbformat": 4,
 "nbformat_minor": 2
}
