{
 "cells": [
  {
   "cell_type": "markdown",
   "metadata": {},
   "source": [
    "# System Design Primer"
   ]
  },
  {
   "cell_type": "markdown",
   "metadata": {},
   "source": [
    "## Scalability Basics"
   ]
  },
  {
   "cell_type": "markdown",
   "metadata": {},
   "source": [
    "### Vertical Scaling - upgrade machine to have more RAM, cores, disks, etc."
   ]
  },
  {
   "cell_type": "markdown",
   "metadata": {},
   "source": [
    "### Horizontal Scaling - getting more machines \n",
    "\n",
    "In order to scale horizontally, we want to make sure we have the same codebase on all our servers. So how can we change code on all servers at once?\n",
    "\n",
    "Using **clones**. Once we make one server, we can create an image (in AWS terms an AMI) which all our servers will launch from whenever they get spun up."
   ]
  },
  {
   "cell_type": "markdown",
   "metadata": {},
   "source": [
    "### Databases\n",
    "\n",
    "**Replication** means replicating the database contents to improve availability. This concept is similar to **denormalization**, a process to speed up SQL reads at the cost of SQL writes.\n",
    "\n",
    "To improve scalability, we can switch to a NoSQL database and just perform more complex queries in application code. \n",
    "\n",
    "**Partitioning** - splitting the database into multiple pieces\n",
    "\n",
    "* Caching - a way of storing information for faster retrieval\n",
    "\n",
    "Method 1: Cached queries - hash a DB query and save it in the cache, but makes it hard to delete items\n",
    "\n",
    "Method 2: Cached objects - store entire objects in cache, making asynchronous processing possible"
   ]
  },
  {
   "cell_type": "markdown",
   "metadata": {},
   "source": [
    "### Load Balancing \n",
    "\n",
    "Away of distributing queries to servers to balance the load"
   ]
  },
  {
   "cell_type": "markdown",
   "metadata": {},
   "source": [
    "### Reverse Proxy\n",
    "\n",
    "Similar to a load balancer, a reverse proxy is a middleman between the client and server. They are also used in the case of a single server to improve performance, security, and flexibility."
   ]
  },
  {
   "cell_type": "markdown",
   "metadata": {},
   "source": [
    "### Asynchronism\n",
    "\n",
    "Method 1: Precomputing and turning dynamic content into static content to be delivered quickly. But, this doesn't work if user wants something customized.\n",
    "\n",
    "Method 2: Use a queue to maintain a list running and completed jobs."
   ]
  },
  {
   "cell_type": "markdown",
   "metadata": {},
   "source": [
    "## CAP Theorem\n",
    "\n",
    "A distributed can support only 2 of the following:\n",
    "\n",
    "1) Consistency - every read receives the most recent write\n",
    "2) Availability - every request receives a response (that may not be the most recent)\n",
    "3) Partition tolerance - system works even if network fails\n",
    "\n",
    "Partition tolerance is a must since networks are unreliable, so we have to give up C or A.\n",
    "\n",
    "CP - if we want atomic reads/writes guaranteed\n",
    "\n",
    "AP - system MUST keep working "
   ]
  },
  {
   "cell_type": "markdown",
   "metadata": {},
   "source": [
    "## Domain Name System (DNS)\n",
    "\n",
    "How to translate a domain name (www.example.com) to an IP address?\n",
    "\n",
    "1) User asks for domain name\n",
    "\n",
    "2) Local DNS server asks root DNS server for IP of domain name\n",
    "\n",
    "3) Root DNS server sends back response\n",
    "\n",
    "4) Local DNS servers will save response in cache and forward to user\n",
    "\n",
    "5) User will get IP, cache the IP, and ask IP directly"
   ]
  },
  {
   "cell_type": "markdown",
   "metadata": {},
   "source": [
    "## Content Delivery Network (CDN)\n",
    "\n",
    "Servers located across the world that serve (usually) static content. Benefits include:\n",
    "\n",
    "1) reduce the amount of requests your server needs to handle\n",
    "\n",
    "2) allow users to obtain content more quickly due to proximity"
   ]
  },
  {
   "cell_type": "markdown",
   "metadata": {},
   "source": [
    "## Databases (in-depth)\n",
    "\n",
    "#### Relational Database Management System (RDBMS)\n",
    "\n",
    "SQL Databases that are structured like tables. They follow the ACID (atomicity, consistency, isolation, and durability) principle.\n",
    "\n",
    "How to scale an RDBMS?\n",
    "- Master-Slave Replication\n",
    "Master serves reads and writes and copies data to slaves. Slaves only serve reads.\n",
    "\n",
    "Now, if a master goes down, we're in read-only mode. We also need a load balancer to handle reads.\n",
    "\n",
    "- Master-Master Replication\n",
    "Multiple masters to serve both reads and writes. They communicate to one another.\n",
    "\n",
    "Requires a lot of extra logic on how to serve requests and communication.\n",
    "\n",
    "- Federation\n",
    "Separate database by service functionality (e.g. forums, users, products). This reduces the load on each database server.\n",
    "\n",
    "- Sharding\n",
    "Similar to federation, except don't break servers apart by functionality.\n",
    "\n",
    "- Denormalization\n",
    "Make multiple copies of the data to reduce time to reduce the number of joins when serving requests. Improves read performance at the cost of write performance.\n",
    "\n",
    "- SQL Tuning\n",
    "Improving database schema.\n",
    "\n",
    "#### NoSQL\n",
    "\n",
    "Data is stored as keys and values (like a Python dictionary or JSON). Data is denormalized and joins are now performed in the application layer.\n",
    "\n",
    "### SQL vs. NoSQL\n",
    "\n",
    "SQL pros:\n",
    "- structured data\n",
    "- more established\n",
    "- want data to be consistent\n",
    "- easy to scale\n",
    "\n",
    "NoSQL pros:\n",
    "- flexible data\n",
    "- fast queries\n"
   ]
  },
  {
   "cell_type": "markdown",
   "metadata": {},
   "source": [
    "## Communication\n",
    "\n",
    "### HTTP \n",
    "\n",
    "Method of transmiting data between a client and a server. Operates via TCP (less time critical, but reliable) or UDP (lower latency, not guaranteed)\n",
    "\n",
    "### RPC\n",
    "\n",
    "Method of asking a server to perform a procedure for the client (like AWS lambda)."
   ]
  },
  {
   "cell_type": "code",
   "execution_count": null,
   "metadata": {},
   "outputs": [],
   "source": []
  }
 ],
 "metadata": {
  "kernelspec": {
   "display_name": "Python 3",
   "language": "python",
   "name": "python3"
  },
  "language_info": {
   "codemirror_mode": {
    "name": "ipython",
    "version": 3
   },
   "file_extension": ".py",
   "mimetype": "text/x-python",
   "name": "python",
   "nbconvert_exporter": "python",
   "pygments_lexer": "ipython3",
   "version": "3.6.6"
  }
 },
 "nbformat": 4,
 "nbformat_minor": 2
}
