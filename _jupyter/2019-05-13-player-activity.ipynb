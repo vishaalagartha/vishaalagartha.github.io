{
 "cells": [
  {
   "cell_type": "markdown",
   "metadata": {},
   "source": [
    "# Do NBA players 'dissappear' during stretches of games?\n",
    "\n",
    "Often, people like Bill Simmons say that individual players such as Ben Simmons or Andrew Wiggins 'dissappear' during long stretches of the game. Compare this to two-way players such as Joel Embiid who are consistently active and gunning to do something. The goal of this project was to find a way to quantify and distinguish between two such categories of players."
   ]
  },
  {
   "cell_type": "markdown",
   "metadata": {},
   "source": [
    "## Metric 1: Mean number of occurrences in game log\n",
    "\n",
    "The first metric I tested to determine this was the mean number of occurrences of an individual player in nba game logs divided by the total amount of time the player played. For reference, this is a portion of an nba game log between the Game 7 of the Nuggets vs. Blazers on May 12, 2019.\n",
    "\n",
    "![alt_text](game_log.png)\n",
    "\n",
    "Every time an individual player shows up, their occurrences increases by 1. So, in the above game log, Gary Harris's number of occurrences would increase by 2 and Damian Lillard's occurrences would increase by 2. Note that this includes both positive *and* negative impacts the player had during the game. So, Aminu's fouls and turnovers would still increase his occurrences. We include these because we don't want to diminish a player's activity if the activity doesn't have a positive outcome. We want to find players who sit in the corner and dissappear."
   ]
  },
  {
   "cell_type": "markdown",
   "metadata": {},
   "source": [
    "### Data Aggregation\n",
    "\n",
    "Using a Python script, we parse all the game logs for the entire 2018-2019 season and playoffs to this point and find the number of occurrences and time played by each individual player."
   ]
  },
  {
   "cell_type": "code",
   "execution_count": 1,
   "metadata": {},
   "outputs": [],
   "source": [
    "import csv\n",
    "import matplotlib.pyplot as plt\n",
    "import pandas as pd\n",
    "import seaborn as sns\n",
    "import pprint\n",
    "%matplotlib inline\n",
    "from scipy.stats import *\n",
    "import numpy as np\n",
    "\n",
    "d = {}\n",
    "with open('activity.csv', newline='') as csvfile:\n",
    "    reader = csv.DictReader(csvfile)\n",
    "    for row in reader:\n",
    "        d[row['player']] = {'time played': int(row['time played']), 'occurrences': int(row['occurrences'])}\n",
    "\n",
    "activity = {}\n",
    "time_played = {}\n",
    "for name in d:\n",
    "    if d[name]['time played']>100000:\n",
    "        activity[name] = d[name]['occurrences']/d[name]['time played']\n",
    "        time_played[name] = d[name]['time played']\n",
    "y = list(activity.keys())\n",
    "x = list(activity.values())\n",
    "df = pd.DataFrame({'player': list(activity.keys()), 'values': list(activity.values()), \n",
    "                   'time played': list(time_played.values())})\n",
    "ordered_df = df.sort_values(by='values')"
   ]
  },
  {
   "cell_type": "markdown",
   "metadata": {},
   "source": [
    "We will remove players who play below the mean time played to filter out players who rarely play since we want to find big stars who dissappear. Here is what the final data looks like sorted by value."
   ]
  },
  {
   "cell_type": "code",
   "execution_count": 2,
   "metadata": {},
   "outputs": [
    {
     "name": "stdout",
     "output_type": "stream",
     "text": [
      "                player    values  time played\n",
      "113  Terrance Ferguson  0.012092       127357\n",
      "158          PJ Tucker  0.012444       196395\n",
      "110     Reggie Bullock  0.013097       120561\n",
      "134      Darius Miller  0.013470       109803\n",
      "62      Garrett Temple  0.013778       129624\n",
      "..                 ...       ...          ...\n",
      "165     Thaddeus Young  0.041327       158926\n",
      "28          Trae Young  0.042267       158990\n",
      "38        Josh Jackson  0.048369       129193\n",
      "151         Seth Curry  0.051384       101413\n",
      "31      Justin Jackson  0.059543       104950\n",
      "\n",
      "[176 rows x 3 columns]\n"
     ]
    }
   ],
   "source": [
    "print(ordered_df)"
   ]
  },
  {
   "cell_type": "markdown",
   "metadata": {},
   "source": [
    "Additionally, here is a histogram of the values"
   ]
  },
  {
   "cell_type": "code",
   "execution_count": 3,
   "metadata": {},
   "outputs": [
    {
     "data": {
      "image/png": "[encoded data removed]",
      "text/plain": [
       "<Figure size 432x288 with 1 Axes>"
      ]
     },
     "metadata": {
      "needs_background": "light"
     },
     "output_type": "display_data"
    }
   ],
   "source": [
    "num_bins = 100\n",
    "n, bins, patches = plt.hist(list(activity.values()), num_bins, facecolor='blue', alpha=0.5)\n",
    "plt.xlabel('Mean number of occurrences in game logs')\n",
    "plt.ylabel('Frequency')\n",
    "plt.title('How often do NBA players who up in game logs?')\n",
    "plt.show()"
   ]
  },
  {
   "cell_type": "markdown",
   "metadata": {},
   "source": [
    "This does seem like a reasonable metric. We see that '3-and-D' players like Terrance Ferguson and PJ Tucker have a low number of occurrences since they dissappear on most game logs for a long time. Compare this to stars who handle the ball a lot like Justin Jackson, Seth Curry, or Trae Young and constantly are active.\n",
    "\n",
    "In conclusion, here are the 10 most 'dissappearing' players:"
   ]
  },
  {
   "cell_type": "code",
   "execution_count": 4,
   "metadata": {},
   "outputs": [
    {
     "name": "stdout",
     "output_type": "stream",
     "text": [
      "                player    values  time played\n",
      "113  Terrance Ferguson  0.012092       127357\n",
      "158          PJ Tucker  0.012444       196395\n",
      "110     Reggie Bullock  0.013097       120561\n",
      "134      Darius Miller  0.013470       109803\n",
      "62      Garrett Temple  0.013778       129624\n",
      "156      Avery Bradley  0.013903       117963\n",
      "103   Ryan Arcidiacono  0.013923       119367\n",
      "111  Langston Galloway  0.014104       119118\n",
      "19       Austin Rivers  0.014277       139806\n",
      "44       Nicolas Batum  0.014305       145123\n"
     ]
    }
   ],
   "source": [
    "print(ordered_df[:10])"
   ]
  },
  {
   "cell_type": "markdown",
   "metadata": {},
   "source": [
    "And the 10 most 'active' players:"
   ]
  },
  {
   "cell_type": "code",
   "execution_count": 5,
   "metadata": {},
   "outputs": [
    {
     "name": "stdout",
     "output_type": "stream",
     "text": [
      "                player    values  time played\n",
      "31      Justin Jackson  0.059543       104950\n",
      "151         Seth Curry  0.051384       101413\n",
      "38        Josh Jackson  0.048369       129193\n",
      "28          Trae Young  0.042267       158990\n",
      "165     Thaddeus Young  0.041327       158926\n",
      "85        Monte Morris  0.039578       136693\n",
      "138        Patty Mills  0.039390       126478\n",
      "174  Bogdan Bogdanovic  0.039293       118266\n",
      "59       Marcus Morris  0.037880       143454\n",
      "25        Jrue Holiday  0.036610       148212\n"
     ]
    }
   ],
   "source": [
    "print(ordered_df[::-1][:10])"
   ]
  },
  {
   "cell_type": "markdown",
   "metadata": {},
   "source": [
    "## Metric 2: Finding time between individual actions for all players\n",
    "\n",
    "The second metric we can use the seconds between an individual player's actions. Recall the game log from above\n",
    "\n",
    "![alt_text](game_log.png)\n",
    "\n",
    "Let's take Enes Kanter as an example. Kanter does something (positive or negative) at the following timestamps: 11:28, 10:33, and 10:00. This means that from the periods of 12:00 to 11:28, 11:28 to 10:33, and 10:33 to 10:00 he was not showing up the game log. In other words, he 'dissappeared' for 32, 55, and 33 seconds. We parse the nba game logs for all these 'time deltas' in the 2018-2019 games and plot histograms."
   ]
  },
  {
   "cell_type": "code",
   "execution_count": 6,
   "metadata": {},
   "outputs": [],
   "source": [
    "d = {}\n",
    "with open('activity_distribution.csv', newline='') as csvfile:\n",
    "    reader = csv.DictReader(csvfile)\n",
    "    for row in reader:\n",
    "        if ';' in row['time deltas']:\n",
    "            l = row['time deltas'].split(';')\n",
    "            if len(l)>2000:\n",
    "                d[row['player']] = [int(i) for i in np.random.choice(l, 2000)]"
   ]
  },
  {
   "cell_type": "markdown",
   "metadata": {},
   "source": [
    "Let's take a look at the histograms of Joel Embiid, a very active player, and PJ Tucker a more inactive player."
   ]
  },
  {
   "cell_type": "code",
   "execution_count": 7,
   "metadata": {},
   "outputs": [
    {
     "data": {
      "image/png": "[encoded data removed]",
      "text/plain": [
       "<Figure size 432x288 with 1 Axes>"
      ]
     },
     "metadata": {
      "needs_background": "light"
     },
     "output_type": "display_data"
    },
    {
     "data": {
      "image/png": "[encoded data removed]",
      "text/plain": [
       "<Figure size 432x288 with 1 Axes>"
      ]
     },
     "metadata": {
      "needs_background": "light"
     },
     "output_type": "display_data"
    }
   ],
   "source": [
    "def plot_hist(l, title):\n",
    "    num_bins = 100\n",
    "    n, bins, patches = plt.hist(l, num_bins, facecolor='blue', alpha=0.5)\n",
    "    plt.xlabel('Time between Game Log Occurrences')\n",
    "    plt.ylabel('Frequency')\n",
    "    plt.title(f\"{title}'s Time between Occurrences\")\n",
    "    plt.show()\n",
    "\n",
    "plot_hist(d['J.Embiid'], 'Embiid')\n",
    "plot_hist(d['P.Tucker'], 'Tucker')"
   ]
  },
  {
   "cell_type": "markdown",
   "metadata": {},
   "source": [
    "Clearly, Tucker's histogram is more evently distributed whereas Embiid's is more consistently in the lower range. A good metric for measuring this 'tail' is skewness. For example, consider the two skewnesses for these two players."
   ]
  },
  {
   "cell_type": "code",
   "execution_count": 8,
   "metadata": {},
   "outputs": [
    {
     "name": "stdout",
     "output_type": "stream",
     "text": [
      "Embiid Skewness: 3.4222434144154517\n",
      "Tucker Skewness: 1.7206998895098011\n"
     ]
    }
   ],
   "source": [
    "print('Embiid Skewness:', skew(d['J.Embiid']))\n",
    "print('Tucker Skewness:', skew(d['P.Tucker']))"
   ]
  },
  {
   "cell_type": "markdown",
   "metadata": {},
   "source": [
    "Embiid has a greater skewness and Tucker has a lower skewness. Let's do the same calculation for all players."
   ]
  },
  {
   "cell_type": "code",
   "execution_count": 9,
   "metadata": {},
   "outputs": [
    {
     "name": "stdout",
     "output_type": "stream",
     "text": [
      "         player  skewness\n",
      "96   D.Collison  1.630781\n",
      "3    D.Augustin  1.692694\n",
      "117    P.Tucker  1.720700\n",
      "9       J.Grant  1.749987\n",
      "45      C.Osman  1.814472\n",
      "..          ...       ...\n",
      "119   B.Griffin  3.368676\n",
      "1      J.Embiid  3.422243\n",
      "88   A.Drummond  3.452683\n",
      "94      K.Towns  3.530690\n",
      "52     J.Harden  3.704802\n",
      "\n",
      "[129 rows x 2 columns]\n"
     ]
    }
   ],
   "source": [
    "y = []\n",
    "for player in d:\n",
    "    y_ = skew(d[player])\n",
    "    y.append(y_)\n",
    "    \n",
    "df = pd.DataFrame({'player': list(d.keys()), 'skewness': y})\n",
    "ordered_df = df.sort_values(by='skewness')\n",
    "print(ordered_df)"
   ]
  },
  {
   "cell_type": "markdown",
   "metadata": {},
   "source": [
    "Once again, this seems like a pretty good metric. High usage players (when on the court) such as Karl-Anthony Towns or Lou Williams show a high skew while lower usage players who 'dissappear' on both ends have a lower skew.\n",
    "\n",
    "In conclusion, here are the most 'dissappearing' players by time between occurrences in nba game logs."
   ]
  },
  {
   "cell_type": "code",
   "execution_count": 10,
   "metadata": {},
   "outputs": [
    {
     "name": "stdout",
     "output_type": "stream",
     "text": [
      "         player  skewness\n",
      "96   D.Collison  1.630781\n",
      "3    D.Augustin  1.692694\n",
      "117    P.Tucker  1.720700\n",
      "9       J.Grant  1.749987\n",
      "45      C.Osman  1.814472\n",
      "106    B.Forbes  1.883263\n",
      "86      S.Adams  1.927835\n",
      "127    H.Barnes  1.963418\n",
      "124    J.Butler  2.023250\n",
      "8      J.Redick  2.031958\n"
     ]
    }
   ],
   "source": [
    "print(ordered_df[:10])"
   ]
  },
  {
   "cell_type": "code",
   "execution_count": 11,
   "metadata": {},
   "outputs": [
    {
     "name": "stdout",
     "output_type": "stream",
     "text": [
      "          player  skewness\n",
      "52      J.Harden  3.704802\n",
      "94       K.Towns  3.530690\n",
      "88    A.Drummond  3.452683\n",
      "1       J.Embiid  3.422243\n",
      "119    B.Griffin  3.368676\n",
      "84      J.Parker  3.323349\n",
      "76     D.Russell  3.304783\n",
      "39        D.Wade  3.237791\n",
      "33   M.BagleyIII  3.124603\n",
      "11        B.Beal  3.087286\n"
     ]
    }
   ],
   "source": [
    "print(ordered_df[::-1][:10])"
   ]
  }
 ],
 "metadata": {
  "kernelspec": {
   "display_name": "Python 3",
   "language": "python",
   "name": "python3"
  },
  "language_info": {
   "codemirror_mode": {
    "name": "ipython",
    "version": 3
   },
   "file_extension": ".py",
   "mimetype": "text/x-python",
   "name": "python",
   "nbconvert_exporter": "python",
   "pygments_lexer": "ipython3",
   "version": "3.6.6"
  }
 },
 "nbformat": 4,
 "nbformat_minor": 2
}
