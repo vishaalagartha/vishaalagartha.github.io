{
 "cells": [
  {
   "cell_type": "markdown",
   "metadata": {},
   "source": [
    "# Binary Search Tree Traversals"
   ]
  },
  {
   "cell_type": "code",
   "execution_count": 30,
   "metadata": {},
   "outputs": [],
   "source": [
    "class TreeNode:\n",
    "    def __init__(self, x):\n",
    "        self.val = x\n",
    "        self.left = None\n",
    "        self.right = None\n",
    "        \n",
    "root = TreeNode(1)\n",
    "left = TreeNode(2)\n",
    "right = TreeNode(3)\n",
    "root.left = left\n",
    "root.right = right\n",
    "left_left = TreeNode(4)\n",
    "left_right = TreeNode(5)\n",
    "left.left = left_left\n",
    "left.right = left_right"
   ]
  },
  {
   "cell_type": "markdown",
   "metadata": {},
   "source": [
    "Consider the following BST:"
   ]
  },
  {
   "cell_type": "code",
   "execution_count": 5,
   "metadata": {},
   "outputs": [],
   "source": [
    "%%capture\n",
    "'''\n",
    "        1\n",
    "      /   \\\n",
    "     2     3\n",
    "   /   \\\n",
    " 4       5\n",
    "'''"
   ]
  },
  {
   "cell_type": "markdown",
   "metadata": {},
   "source": [
    "## In Order Traversal\n",
    "\n",
    "Traverses the BST **in-order** using the following pattern: Left, Root, Right\n",
    "\n",
    "In the above example: 4, 2, 5, 1, 3"
   ]
  },
  {
   "cell_type": "code",
   "execution_count": 9,
   "metadata": {},
   "outputs": [
    {
     "name": "stdout",
     "output_type": "stream",
     "text": [
      "4\n",
      "2\n",
      "5\n",
      "1\n",
      "3\n"
     ]
    }
   ],
   "source": [
    "def in_order_recursive(root):\n",
    "    if root.left:\n",
    "        in_order_recursive(root.left)\n",
    "    print(root.val)\n",
    "    if root.right:\n",
    "        in_order_recursive(root.right)\n",
    "in_order_recursive(root)"
   ]
  },
  {
   "cell_type": "code",
   "execution_count": 12,
   "metadata": {},
   "outputs": [
    {
     "name": "stdout",
     "output_type": "stream",
     "text": [
      "4\n",
      "2\n",
      "5\n",
      "1\n",
      "3\n"
     ]
    }
   ],
   "source": [
    "def in_order_iterative(root):\n",
    "    n = root\n",
    "    stack = []\n",
    "    while n or stack:\n",
    "        # go to left most element in subtree\n",
    "        if n:\n",
    "            stack.append(n)\n",
    "            n = n.left\n",
    "        # visit top of stack and then traverse right subtree\n",
    "        elif stack:\n",
    "            n = stack.pop()\n",
    "            print(n.val)\n",
    "            n = n.right\n",
    "in_order_iterative(root)"
   ]
  },
  {
   "cell_type": "markdown",
   "metadata": {},
   "source": [
    "## Pre Order Traversal\n",
    "\n",
    "Traverses the BST using the following pattern: Root, Left, Right\n",
    "\n",
    "In the above example: 1, 2, 4, 5, 3"
   ]
  },
  {
   "cell_type": "code",
   "execution_count": 14,
   "metadata": {},
   "outputs": [
    {
     "name": "stdout",
     "output_type": "stream",
     "text": [
      "1\n",
      "2\n",
      "4\n",
      "5\n",
      "3\n"
     ]
    }
   ],
   "source": [
    "def pre_order_recursive(root):\n",
    "    print(root.val)\n",
    "    if root.left:\n",
    "        pre_order_recursive(root.left)\n",
    "    if root.right:\n",
    "        pre_order_recursive(root.right)\n",
    "pre_order_recursive(root)"
   ]
  },
  {
   "cell_type": "code",
   "execution_count": 17,
   "metadata": {},
   "outputs": [
    {
     "name": "stdout",
     "output_type": "stream",
     "text": [
      "1\n",
      "2\n",
      "4\n",
      "5\n",
      "3\n"
     ]
    }
   ],
   "source": [
    "def pre_order_iterative(root):\n",
    "    stack = [root]\n",
    "    while stack:\n",
    "        n = stack.pop()\n",
    "        print(n.val)\n",
    "        if n.right:\n",
    "            stack.append(n.right)\n",
    "        if n.left:\n",
    "            stack.append(n.left)\n",
    "pre_order_iterative(root)"
   ]
  },
  {
   "cell_type": "markdown",
   "metadata": {},
   "source": [
    "## Post Order Traversal\n",
    "\n",
    "Traverses the BST using the following pattern: Left, Right, Root\n",
    "\n",
    "In the above example: 4, 5, 2, 3, 1"
   ]
  },
  {
   "cell_type": "code",
   "execution_count": 18,
   "metadata": {},
   "outputs": [
    {
     "name": "stdout",
     "output_type": "stream",
     "text": [
      "4\n",
      "5\n",
      "2\n",
      "3\n",
      "1\n"
     ]
    }
   ],
   "source": [
    "def post_order_recursive(root):\n",
    "    if root.left:\n",
    "        post_order_recursive(root.left)\n",
    "    if root.right:\n",
    "        post_order_recursive(root.right)\n",
    "    print(root.val)\n",
    "\n",
    "post_order_recursive(root)"
   ]
  },
  {
   "cell_type": "code",
   "execution_count": 32,
   "metadata": {},
   "outputs": [
    {
     "name": "stdout",
     "output_type": "stream",
     "text": [
      "4\n",
      "5\n",
      "2\n",
      "3\n",
      "1\n"
     ]
    }
   ],
   "source": [
    "def post_order_iterative(root):\n",
    "    stack1 = [root]\n",
    "    stack2 = []\n",
    "    while stack1:\n",
    "        n = stack1.pop()\n",
    "        stack2.append(n)\n",
    "        if n.left:\n",
    "            stack1.append(n.left)\n",
    "        if n.right:\n",
    "            stack1.append(n.right)\n",
    "\n",
    "    while stack2:\n",
    "        print(stack2.pop().val)\n",
    "post_order_iterative(root)"
   ]
  },
  {
   "cell_type": "markdown",
   "metadata": {},
   "source": [
    "## Level Order Traversal\n",
    "\n",
    "Traverses the BST level by level (Breadth First Search)\n",
    "\n",
    "In the above example: 1, 2, 3, 4, 5"
   ]
  },
  {
   "cell_type": "code",
   "execution_count": 34,
   "metadata": {},
   "outputs": [
    {
     "name": "stdout",
     "output_type": "stream",
     "text": [
      "1\n",
      "2\n",
      "3\n",
      "4\n",
      "5\n"
     ]
    }
   ],
   "source": [
    "def level_order_recursive(nodes):\n",
    "    if len(nodes)==0: return\n",
    "    l = []\n",
    "    for n in nodes:\n",
    "        print(n.val)\n",
    "        if n.left: l.append(n.left)\n",
    "        if n.right: l.append(n.right)\n",
    "    level_order_recursive(l)\n",
    "\n",
    "level_order_recursive([root])"
   ]
  },
  {
   "cell_type": "code",
   "execution_count": 35,
   "metadata": {},
   "outputs": [
    {
     "name": "stdout",
     "output_type": "stream",
     "text": [
      "1\n",
      "2\n",
      "3\n",
      "4\n",
      "5\n"
     ]
    }
   ],
   "source": [
    "def level_order_iterative(root):\n",
    "    queue = [root]\n",
    "    while queue:\n",
    "        n = queue[0]\n",
    "        queue = queue[1:]\n",
    "        print(n.val)\n",
    "        if n.left: queue.append(n.left)\n",
    "        if n.right: queue.append(n.right)\n",
    "            \n",
    "level_order_iterative(root)"
   ]
  },
  {
   "cell_type": "code",
   "execution_count": null,
   "metadata": {},
   "outputs": [],
   "source": []
  }
 ],
 "metadata": {
  "kernelspec": {
   "display_name": "Python 3",
   "language": "python",
   "name": "python3"
  },
  "language_info": {
   "codemirror_mode": {
    "name": "ipython",
    "version": 3
   },
   "file_extension": ".py",
   "mimetype": "text/x-python",
   "name": "python",
   "nbconvert_exporter": "python",
   "pygments_lexer": "ipython3",
   "version": "3.6.6"
  }
 },
 "nbformat": 4,
 "nbformat_minor": 2
}
